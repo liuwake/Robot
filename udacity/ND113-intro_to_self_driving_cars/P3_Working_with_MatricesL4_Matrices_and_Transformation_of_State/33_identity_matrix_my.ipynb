{
 "cells": [
  {
   "cell_type": "markdown",
   "metadata": {
    "collapsed": true
   },
   "source": [
    "# Identity Matrix\n",
    "\n",
    "Write a function called identity_matrix that outputs an identity matrix of size n.\n",
    "\n",
    "INPUT\n",
    "* n - size of the Identity matrix\n",
    "\n",
    "OUPUT\n",
    "* identity matrix as a list of lists\n",
    "\n",
    "\n",
    "HINTS\n",
    "* nested for loops will be helpful\n",
    "* the one values are always on the diagonal. To access diagonal values in a list of lists will occur where i = j\n",
    "* whenever i does not equal j, the value in the matrix should be 0"
   ]
  },
  {
   "cell_type": "code",
   "execution_count": 1,
   "metadata": {
    "ExecuteTime": {
     "end_time": "2023-12-17T09:14:39.958479Z",
     "start_time": "2023-12-17T09:14:39.932566Z"
    }
   },
   "outputs": [],
   "source": [
    "def identity_matrix(n):\n",
    "    return [[1 if r == c else 0 for c in range(n)] for r in range(n)]\n"
   ]
  },
  {
   "cell_type": "code",
   "execution_count": 2,
   "metadata": {
    "ExecuteTime": {
     "end_time": "2023-12-17T09:14:39.960771Z",
     "start_time": "2023-12-17T09:14:39.949463Z"
    }
   },
   "outputs": [],
   "source": [
    "# TODO: Run this cell to see if your answers are as expected\n",
    "\n",
    "assert identity_matrix(1) == [[1]]\n",
    "\n",
    "assert identity_matrix(2) == [[1, 0], \n",
    "                             [0, 1]]\n",
    "\n",
    "assert identity_matrix(3) == [[1, 0, 0],\n",
    "                             [0, 1, 0],\n",
    "                             [0, 0, 1]]\n",
    "\n",
    "assert identity_matrix(4) == [[1, 0, 0, 0],\n",
    "                             [0, 1, 0, 0],\n",
    "                             [0, 0, 1, 0],\n",
    "                             [0, 0, 0, 1]]"
   ]
  },
  {
   "cell_type": "markdown",
   "metadata": {},
   "source": [
    "# Multiplication with the Identity Matrix\n",
    "\n",
    "Copy your matrix multiplication function in the code cell below. Try multiplying a matrix with an identity matrix to prove to yourself that the identity matrix is analogous to multiplyin a scalar by one."
   ]
  },
  {
   "cell_type": "code",
   "execution_count": 3,
   "metadata": {
    "ExecuteTime": {
     "end_time": "2023-12-17T09:18:20.101882Z",
     "start_time": "2023-12-17T09:18:20.030138Z"
    }
   },
   "outputs": [],
   "source": [
    "# TODO: Copy your matrix multiplication function and any other helper\n",
    "# funcitons here from the previous exercises\n",
    "\n",
    "def transpose(matrix):\n",
    "    return [[matrix[c][r] for c in range(len(matrix))] for r in range(len(matrix[0]))]\n",
    "\n",
    "def dot_product(vector_one, vector_two):\n",
    "    return sum(vector_one[i] * vector_two[i] for i in range(len(vector_one)))\n",
    "\n",
    "def matrix_multiplication(matrixA, matrixB):\n",
    "    return [[dot_product(matrixA[r], transpose(matrixB)[c]) \\\n",
    "            for c in range(len(matrixB[0]))] for r in range(len(matrixA))]\n",
    "    "
   ]
  },
  {
   "cell_type": "code",
   "execution_count": 4,
   "metadata": {
    "ExecuteTime": {
     "end_time": "2023-12-17T09:18:21.599928Z",
     "start_time": "2023-12-17T09:18:21.586814Z"
    }
   },
   "outputs": [],
   "source": [
    "# TODO: Run this cell to see if your results are as expected.\n",
    "\n",
    "m = [[5, 9, 2, 4],\n",
    "     [3, 8, 5, 6],\n",
    "     [1, 0, 0, 15]]\n",
    "\n",
    "assert matrix_multiplication(m, identity_matrix(4)) == m\n",
    "assert matrix_multiplication(identity_matrix(3), m) == m"
   ]
  }
 ],
 "metadata": {
  "kernelspec": {
   "display_name": "Python 3",
   "language": "python",
   "name": "python3"
  },
  "language_info": {
   "codemirror_mode": {
    "name": "ipython",
    "version": 3
   },
   "file_extension": ".py",
   "mimetype": "text/x-python",
   "name": "python",
   "nbconvert_exporter": "python",
   "pygments_lexer": "ipython3",
   "version": "3.6.3"
  }
 },
 "nbformat": 4,
 "nbformat_minor": 2
}
