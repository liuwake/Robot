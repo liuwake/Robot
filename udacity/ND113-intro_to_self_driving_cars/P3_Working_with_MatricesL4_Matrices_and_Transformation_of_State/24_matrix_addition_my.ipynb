{
 "cells": [
  {
   "cell_type": "markdown",
   "metadata": {},
   "source": [
    "# Matrix Addition\n",
    "\n",
    "In this exercises, you will write a function that accepts two matrices and outputs their sum. Think about how you could do this with a for loop nested inside another for loop."
   ]
  },
  {
   "cell_type": "code",
   "execution_count": 1,
   "metadata": {
    "ExecuteTime": {
     "end_time": "2023-12-17T08:09:00.247578Z",
     "start_time": "2023-12-17T08:09:00.221985Z"
    }
   },
   "outputs": [
    {
     "data": {
      "text/plain": "[[9, 24, 6.1],\n [12.5, 18.2, 14.8],\n [4.8, 2.5, 13],\n [16, 10, 6],\n [4, 2, 12],\n [7, 36, 2]]"
     },
     "execution_count": 1,
     "metadata": {},
     "output_type": "execute_result"
    }
   ],
   "source": [
    "### TODO: Write a function called matrix_addition that \n",
    "###     calculate the sum of two matrices\n",
    "###\n",
    "### INPUTS:\n",
    "###    matrix A _ an m x n matrix\n",
    "###    matrix B _ an m x n matrix\n",
    "###\n",
    "### OUPUT:\n",
    "###   matrixSum _ sum of matrix A + matrix B\n",
    "\n",
    "def matrix_addition(matrixA, matrixB):\n",
    "    return [[matrixA[r][c] + matrixB[r][c] for c in range(len(matrixA[0]))] \\\n",
    "            for r in range(len(matrixA))]\n",
    "\n",
    "### When you run this code cell, your matrix addition function\n",
    "### will run on the A and B matrix.\n",
    "\n",
    "A = [\n",
    "    [2,5,1], \n",
    "    [6,9,7.4], \n",
    "    [2,1,1], \n",
    "    [8,5,3], \n",
    "    [2,1,6], \n",
    "    [5,3,1]\n",
    "]\n",
    "\n",
    "B = [\n",
    "    [7, 19, 5.1], \n",
    "    [6.5,9.2,7.4], \n",
    "    [2.8,1.5,12], \n",
    "    [8,5,3], \n",
    "    [2,1,6], \n",
    "    [2,33,1]\n",
    "]\n",
    "\n",
    "matrix_addition(A, B)"
   ]
  },
  {
   "cell_type": "markdown",
   "metadata": {},
   "source": [
    "### Vectors versus Matrices\n",
    "\n",
    "What happens if you run the cell below? Here you are adding two vectors together. Does your code still work?"
   ]
  },
  {
   "cell_type": "code",
   "execution_count": 2,
   "metadata": {
    "ExecuteTime": {
     "end_time": "2023-12-17T08:09:04.562572Z",
     "start_time": "2023-12-17T08:09:04.335364Z"
    }
   },
   "outputs": [
    {
     "ename": "TypeError",
     "evalue": "object of type 'int' has no len()",
     "output_type": "error",
     "traceback": [
      "\u001B[0;31m---------------------------------------------------------------------------\u001B[0m",
      "\u001B[0;31mTypeError\u001B[0m                                 Traceback (most recent call last)",
      "\u001B[0;32m<ipython-input-2-61a622f3c730>\u001B[0m in \u001B[0;36m<module>\u001B[0;34m\u001B[0m\n\u001B[0;32m----> 1\u001B[0;31m \u001B[0mmatrix_addition\u001B[0m\u001B[0;34m(\u001B[0m\u001B[0;34m[\u001B[0m\u001B[0;36m4\u001B[0m\u001B[0;34m,\u001B[0m \u001B[0;36m2\u001B[0m\u001B[0;34m,\u001B[0m \u001B[0;36m1\u001B[0m\u001B[0;34m]\u001B[0m\u001B[0;34m,\u001B[0m \u001B[0;34m[\u001B[0m\u001B[0;36m5\u001B[0m\u001B[0;34m,\u001B[0m \u001B[0;36m2\u001B[0m\u001B[0;34m,\u001B[0m \u001B[0;36m7\u001B[0m\u001B[0;34m]\u001B[0m\u001B[0;34m)\u001B[0m\u001B[0;34m\u001B[0m\u001B[0;34m\u001B[0m\u001B[0m\n\u001B[0m",
      "\u001B[0;32m<ipython-input-1-53b63c8de246>\u001B[0m in \u001B[0;36mmatrix_addition\u001B[0;34m(matrixA, matrixB)\u001B[0m\n\u001B[1;32m     11\u001B[0m \u001B[0;32mdef\u001B[0m \u001B[0mmatrix_addition\u001B[0m\u001B[0;34m(\u001B[0m\u001B[0mmatrixA\u001B[0m\u001B[0;34m,\u001B[0m \u001B[0mmatrixB\u001B[0m\u001B[0;34m)\u001B[0m\u001B[0;34m:\u001B[0m\u001B[0;34m\u001B[0m\u001B[0;34m\u001B[0m\u001B[0m\n\u001B[1;32m     12\u001B[0m     return [[matrixA[r][c] + matrixB[r][c] for c in range(len(matrixA[0]))] \\\n\u001B[0;32m---> 13\u001B[0;31m             for r in range(len(matrixA))]\n\u001B[0m\u001B[1;32m     14\u001B[0m \u001B[0;34m\u001B[0m\u001B[0m\n\u001B[1;32m     15\u001B[0m \u001B[0;31m### When you run this code cell, your matrix addition function\u001B[0m\u001B[0;34m\u001B[0m\u001B[0;34m\u001B[0m\u001B[0;34m\u001B[0m\u001B[0m\n",
      "\u001B[0;32m<ipython-input-1-53b63c8de246>\u001B[0m in \u001B[0;36m<listcomp>\u001B[0;34m(.0)\u001B[0m\n\u001B[1;32m     11\u001B[0m \u001B[0;32mdef\u001B[0m \u001B[0mmatrix_addition\u001B[0m\u001B[0;34m(\u001B[0m\u001B[0mmatrixA\u001B[0m\u001B[0;34m,\u001B[0m \u001B[0mmatrixB\u001B[0m\u001B[0;34m)\u001B[0m\u001B[0;34m:\u001B[0m\u001B[0;34m\u001B[0m\u001B[0;34m\u001B[0m\u001B[0m\n\u001B[1;32m     12\u001B[0m     return [[matrixA[r][c] + matrixB[r][c] for c in range(len(matrixA[0]))] \\\n\u001B[0;32m---> 13\u001B[0;31m             for r in range(len(matrixA))]\n\u001B[0m\u001B[1;32m     14\u001B[0m \u001B[0;34m\u001B[0m\u001B[0m\n\u001B[1;32m     15\u001B[0m \u001B[0;31m### When you run this code cell, your matrix addition function\u001B[0m\u001B[0;34m\u001B[0m\u001B[0;34m\u001B[0m\u001B[0;34m\u001B[0m\u001B[0m\n",
      "\u001B[0;31mTypeError\u001B[0m: object of type 'int' has no len()"
     ]
    }
   ],
   "source": [
    "matrix_addition([4, 2, 1], [5, 2, 7])"
   ]
  },
  {
   "cell_type": "markdown",
   "metadata": {},
   "source": [
    "Why did this error occur? Because your code assumes that a matrix is a two-dimensional grid represented by a list of lists. But a horizontal vector, which can also be considered a matrix, is a one-dimensional grid represented by a single list.\n",
    "\n",
    "What happens if you store a vector as a list of lists like [[4, 2, 1]] and [[5, 2, 7]]? Does your function work? Run the code cell below to find out."
   ]
  },
  {
   "cell_type": "code",
   "execution_count": 3,
   "metadata": {
    "ExecuteTime": {
     "end_time": "2023-12-17T08:09:07.610850Z",
     "start_time": "2023-12-17T08:09:07.602215Z"
    }
   },
   "outputs": [
    {
     "data": {
      "text/plain": "[[9, 4, 8]]"
     },
     "execution_count": 3,
     "metadata": {},
     "output_type": "execute_result"
    }
   ],
   "source": [
    "matrix_addition([[4, 2, 1]], [[5, 2, 7]])"
   ]
  },
  {
   "cell_type": "markdown",
   "metadata": {},
   "source": [
    "### Test your Code\n",
    "Run the cell below. If there is no output, then your results are as expected."
   ]
  },
  {
   "cell_type": "code",
   "execution_count": 4,
   "metadata": {
    "ExecuteTime": {
     "end_time": "2023-12-17T08:09:09.454485Z",
     "start_time": "2023-12-17T08:09:09.445554Z"
    }
   },
   "outputs": [],
   "source": [
    "assert matrix_addition([\n",
    "    [1, 2, 3]], \n",
    "    [[4, 5, 6]]) == [[5, 7, 9]]\n",
    "\n",
    "assert matrix_addition([\n",
    "    [4]], [\n",
    "    [5]]) == [[9]]\n",
    "\n",
    "assert matrix_addition([[1, 2, 3], \n",
    "                        [4, 5, 6]], \n",
    "                       [[7, 8, 9], \n",
    "                        [10, 11, 12]]) == [[8, 10, 12], \n",
    "                                           [14, 16, 18]]"
   ]
  }
 ],
 "metadata": {
  "kernelspec": {
   "display_name": "Python 3",
   "language": "python",
   "name": "python3"
  },
  "language_info": {
   "codemirror_mode": {
    "name": "ipython",
    "version": 3
   },
   "file_extension": ".py",
   "mimetype": "text/x-python",
   "name": "python",
   "nbconvert_exporter": "python",
   "pygments_lexer": "ipython3",
   "version": "3.6.3"
  }
 },
 "nbformat": 4,
 "nbformat_minor": 2
}
