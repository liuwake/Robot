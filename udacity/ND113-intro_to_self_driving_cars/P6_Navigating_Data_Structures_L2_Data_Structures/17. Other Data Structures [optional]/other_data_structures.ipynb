{
 "cells": [
  {
   "cell_type": "markdown",
   "metadata": {},
   "source": [
    "# Other Data Structures [optional]\n",
    "\n",
    "The purpose of this notebook is to show you some of the many other data structures you can use without going into too much detail. You can learn more by reading [documentation from Python's collections library](https://docs.python.org/3.3/library/collections.html)."
   ]
  },
  {
   "cell_type": "markdown",
   "metadata": {},
   "source": [
    "## 1. Tuples\n",
    "\n",
    "The only standard library data structure that we haven't discussed. The tuple is an immutable (unchangeable) sequence of Python objects.\n",
    "\n",
    "The tuple is very similar to a list. You can read more about it in the [Python tuple documentation](https://docs.python.org/3/tutorial/datastructures.html#tuples-and-sequences)"
   ]
  },
  {
   "cell_type": "code",
   "execution_count": 1,
   "metadata": {
    "ExecuteTime": {
     "end_time": "2023-12-31T09:02:51.760926Z",
     "start_time": "2023-12-31T09:02:51.755264Z"
    }
   },
   "outputs": [
    {
     "name": "stdout",
     "output_type": "stream",
     "text": [
      "(1, 2, 3)\n",
      "<class 'tuple'>\n"
     ]
    }
   ],
   "source": [
    "# tuples are created with (parentheses)\n",
    "\n",
    "my_tuple = (1,2,3)\n",
    "print(my_tuple)\n",
    "print(type(my_tuple))"
   ]
  },
  {
   "cell_type": "code",
   "execution_count": 2,
   "metadata": {
    "ExecuteTime": {
     "end_time": "2023-12-31T09:02:56.657752Z",
     "start_time": "2023-12-31T09:02:56.648543Z"
    }
   },
   "outputs": [
    {
     "name": "stdout",
     "output_type": "stream",
     "text": [
      "1\n",
      "2\n",
      "3\n"
     ]
    }
   ],
   "source": [
    "# elements can be accessed just like they are with lists.\n",
    "\n",
    "print( my_tuple[0] )\n",
    "print( my_tuple[1] )\n",
    "print( my_tuple[2] )"
   ]
  },
  {
   "cell_type": "code",
   "execution_count": 3,
   "metadata": {
    "ExecuteTime": {
     "end_time": "2023-12-31T09:03:00.929424Z",
     "start_time": "2023-12-31T09:03:00.811769Z"
    }
   },
   "outputs": [
    {
     "ename": "TypeError",
     "evalue": "'tuple' object does not support item assignment",
     "output_type": "error",
     "traceback": [
      "\u001B[0;31m---------------------------------------------------------------------------\u001B[0m",
      "\u001B[0;31mTypeError\u001B[0m                                 Traceback (most recent call last)",
      "\u001B[0;32m<ipython-input-3-c5caf46120c9>\u001B[0m in \u001B[0;36m<module>\u001B[0;34m\u001B[0m\n\u001B[1;32m      2\u001B[0m \u001B[0;31m# due to them being immutable.\u001B[0m\u001B[0;34m\u001B[0m\u001B[0;34m\u001B[0m\u001B[0;34m\u001B[0m\u001B[0m\n\u001B[1;32m      3\u001B[0m \u001B[0;34m\u001B[0m\u001B[0m\n\u001B[0;32m----> 4\u001B[0;31m \u001B[0mmy_tuple\u001B[0m\u001B[0;34m[\u001B[0m\u001B[0;36m1\u001B[0m\u001B[0;34m]\u001B[0m \u001B[0;34m=\u001B[0m \u001B[0;36m4\u001B[0m\u001B[0;34m\u001B[0m\u001B[0;34m\u001B[0m\u001B[0m\n\u001B[0m",
      "\u001B[0;31mTypeError\u001B[0m: 'tuple' object does not support item assignment"
     ]
    }
   ],
   "source": [
    "# there are some things you can't do with tuples \n",
    "# due to them being immutable.\n",
    "\n",
    "my_tuple[1] = 4"
   ]
  },
  {
   "cell_type": "code",
   "execution_count": 4,
   "metadata": {
    "ExecuteTime": {
     "end_time": "2023-12-31T09:03:07.785372Z",
     "start_time": "2023-12-31T09:03:07.776388Z"
    }
   },
   "outputs": [
    {
     "name": "stdout",
     "output_type": "stream",
     "text": [
      "{('a', 'b', 'c'), (1, 2, 3)}\n"
     ]
    }
   ],
   "source": [
    "# but there are also some things you CAN do with tuples\n",
    "# that you can't do with lists...\n",
    "\n",
    "t1 = ('a','b','c')\n",
    "t2 = (1, 2, 3)\n",
    "\n",
    "set_of_tuples = set()\n",
    "\n",
    "set_of_tuples.add(t1)\n",
    "set_of_tuples.add(t2)\n",
    "\n",
    "print(set_of_tuples)"
   ]
  },
  {
   "cell_type": "code",
   "execution_count": 5,
   "metadata": {
    "ExecuteTime": {
     "end_time": "2023-12-31T09:03:33.003969Z",
     "start_time": "2023-12-31T09:03:32.989025Z"
    }
   },
   "outputs": [
    {
     "ename": "TypeError",
     "evalue": "unhashable type: 'list'",
     "output_type": "error",
     "traceback": [
      "\u001B[0;31m---------------------------------------------------------------------------\u001B[0m",
      "\u001B[0;31mTypeError\u001B[0m                                 Traceback (most recent call last)",
      "\u001B[0;32m<ipython-input-5-4b4d5a49a68e>\u001B[0m in \u001B[0;36m<module>\u001B[0;34m\u001B[0m\n\u001B[1;32m      4\u001B[0m \u001B[0mset_of_lists\u001B[0m \u001B[0;34m=\u001B[0m \u001B[0mset\u001B[0m\u001B[0;34m(\u001B[0m\u001B[0;34m)\u001B[0m\u001B[0;34m\u001B[0m\u001B[0;34m\u001B[0m\u001B[0m\n\u001B[1;32m      5\u001B[0m \u001B[0;34m\u001B[0m\u001B[0m\n\u001B[0;32m----> 6\u001B[0;31m \u001B[0mset_of_lists\u001B[0m\u001B[0;34m.\u001B[0m\u001B[0madd\u001B[0m\u001B[0;34m(\u001B[0m\u001B[0mL1\u001B[0m\u001B[0;34m)\u001B[0m\u001B[0;34m\u001B[0m\u001B[0;34m\u001B[0m\u001B[0m\n\u001B[0m\u001B[1;32m      7\u001B[0m \u001B[0mset_of_lists\u001B[0m\u001B[0;34m.\u001B[0m\u001B[0madd\u001B[0m\u001B[0;34m(\u001B[0m\u001B[0mL2\u001B[0m\u001B[0;34m)\u001B[0m\u001B[0;34m\u001B[0m\u001B[0;34m\u001B[0m\u001B[0m\n\u001B[1;32m      8\u001B[0m \u001B[0;34m\u001B[0m\u001B[0m\n",
      "\u001B[0;31mTypeError\u001B[0m: unhashable type: 'list'"
     ]
    }
   ],
   "source": [
    "L1 = ['a','b','c']\n",
    "L2 = [1, 2, 3]\n",
    "\n",
    "set_of_lists = set()\n",
    "\n",
    "set_of_lists.add(L1)\n",
    "set_of_lists.add(L2)\n",
    "\n",
    "print(set_of_lists)"
   ]
  },
  {
   "cell_type": "markdown",
   "metadata": {},
   "source": [
    "## 2. Namedtuple\n",
    "\n",
    "Very similar to a tuple except the fields can be named as well! I use namedtuples when I want to use `object.property` notation but don't want to define a full class."
   ]
  },
  {
   "cell_type": "code",
   "execution_count": 6,
   "metadata": {
    "ExecuteTime": {
     "end_time": "2023-12-31T09:03:54.956050Z",
     "start_time": "2023-12-31T09:03:54.947476Z"
    }
   },
   "outputs": [
    {
     "name": "stdout",
     "output_type": "stream",
     "text": [
      "Point(x=5, y=-3)\n"
     ]
    }
   ],
   "source": [
    "# named tuple's need to be imported from the collections library\n",
    "from collections import namedtuple\n",
    "\n",
    "# here we define Point as a new type of thing. \n",
    "# It has properties x and y.\n",
    "Point = namedtuple(\"Point\", [\"x\", \"y\"])\n",
    "\n",
    "# here we actually instantiate a point\n",
    "p1 = Point(5, -3)\n",
    "\n",
    "print(p1)"
   ]
  },
  {
   "cell_type": "code",
   "execution_count": 7,
   "metadata": {
    "ExecuteTime": {
     "end_time": "2023-12-31T09:04:41.518326Z",
     "start_time": "2023-12-31T09:04:41.509706Z"
    }
   },
   "outputs": [
    {
     "name": "stdout",
     "output_type": "stream",
     "text": [
      "5\n",
      "-3\n"
     ]
    }
   ],
   "source": [
    "# there are two ways to access the fields in a point...\n",
    "\n",
    "# ... by position\n",
    "print( p1[0] )\n",
    "print( p1[1] )"
   ]
  },
  {
   "cell_type": "code",
   "execution_count": 8,
   "metadata": {
    "ExecuteTime": {
     "end_time": "2023-12-31T09:04:47.848132Z",
     "start_time": "2023-12-31T09:04:47.840407Z"
    }
   },
   "outputs": [
    {
     "name": "stdout",
     "output_type": "stream",
     "text": [
      "5\n",
      "-3\n"
     ]
    }
   ],
   "source": [
    "# ... or by name\n",
    "\n",
    "print( p1.x )\n",
    "print( p1.y )"
   ]
  },
  {
   "cell_type": "markdown",
   "metadata": {},
   "source": [
    "## 3. Counter\n",
    "Often we want to count how many times something occurs. The code below demonstrates how to use a `Counter` to count the number of occurrences of various characters in a string."
   ]
  },
  {
   "cell_type": "code",
   "execution_count": 9,
   "metadata": {
    "ExecuteTime": {
     "end_time": "2023-12-31T09:04:54.794558Z",
     "start_time": "2023-12-31T09:04:54.778805Z"
    }
   },
   "outputs": [
    {
     "data": {
      "text/plain": "[(' ', 8),\n ('e', 4),\n ('o', 4),\n ('t', 2),\n ('h', 2),\n ('u', 2),\n ('r', 2),\n ('d', 2),\n ('q', 1),\n ('i', 1),\n ('c', 1),\n ('k', 1),\n ('b', 1),\n ('w', 1),\n ('n', 1),\n ('f', 1),\n ('x', 1),\n ('j', 1),\n ('m', 1),\n ('p', 1),\n ('v', 1),\n ('l', 1),\n ('a', 1),\n ('z', 1),\n ('y', 1),\n ('g', 1)]"
     },
     "execution_count": 9,
     "metadata": {},
     "output_type": "execute_result"
    }
   ],
   "source": [
    "from collections import Counter\n",
    "\n",
    "string = \"the quick brown fox jumped over the lazy dog\"\n",
    "\n",
    "character_counter = Counter()\n",
    "for character in string:\n",
    "    character_counter[character] += 1\n",
    "    \n",
    "character_counter.most_common()"
   ]
  },
  {
   "cell_type": "markdown",
   "metadata": {},
   "source": [
    "It looks like this string had 8 spaces, 4 e's, 4 o's, etc..."
   ]
  },
  {
   "cell_type": "code",
   "execution_count": 10,
   "metadata": {
    "ExecuteTime": {
     "end_time": "2023-12-31T09:05:44.039243Z",
     "start_time": "2023-12-31T09:05:44.031586Z"
    }
   },
   "outputs": [
    {
     "name": "stdout",
     "output_type": "stream",
     "text": [
      "0\n"
     ]
    }
   ],
   "source": [
    "# something that's nice about counters is that they don't throw \n",
    "# an error if you try to access a key that isn't there. Instead,\n",
    "# they return 0.\n",
    "\n",
    "# how many capital A's are in the string above?\n",
    "\n",
    "print(character_counter[\"A\"])"
   ]
  },
  {
   "cell_type": "code",
   "execution_count": 11,
   "metadata": {
    "ExecuteTime": {
     "end_time": "2023-12-31T09:06:02.481816Z",
     "start_time": "2023-12-31T09:06:02.472265Z"
    }
   },
   "outputs": [
    {
     "name": "stdout",
     "output_type": "stream",
     "text": [
      "1\n"
     ]
    }
   ],
   "source": [
    "# but how many lowercase a's?\n",
    "\n",
    "print(character_counter[\"a\"])"
   ]
  },
  {
   "cell_type": "markdown",
   "metadata": {},
   "source": [
    "## 4. defaultdict\n",
    "\n",
    "A default dict is best explained by example. Let's go back to the \"three boxes of tickets\" example from earlier."
   ]
  },
  {
   "cell_type": "code",
   "execution_count": 12,
   "metadata": {
    "ExecuteTime": {
     "end_time": "2023-12-31T09:06:12.174730Z",
     "start_time": "2023-12-31T09:06:12.168718Z"
    }
   },
   "outputs": [
    {
     "name": "stdout",
     "output_type": "stream",
     "text": [
      "{'low': [{'priority': 'low', 'description': 'windshield chipped'}, {'priority': 'low', 'description': 'failed to use turn signal'}], 'medium': [{'priority': 'medium', 'description': 'did not come to complete stop at stop sign'}], 'high': [{'priority': 'high', 'description': 'slammed on brakes'}]}\n"
     ]
    }
   ],
   "source": [
    "TICKET_BOXES = {\n",
    "    \"low\"    : [],\n",
    "    \"medium\" : [],\n",
    "    \"high\"   : []\n",
    "}\n",
    "\n",
    "unfiled_tickets = [\n",
    "    {\n",
    "        \"priority\"    : \"high\",\n",
    "        \"description\" : \"slammed on brakes\"\n",
    "    },\n",
    "    {\n",
    "        \"priority\"    : \"low\",\n",
    "        \"description\" : \"windshield chipped\"\n",
    "    },\n",
    "    {\n",
    "        \"priority\"    : \"low\",\n",
    "        \"description\" : \"failed to use turn signal\"\n",
    "    }\n",
    "    ,\n",
    "    {\n",
    "        \"priority\"    : \"medium\",\n",
    "        \"description\" : \"did not come to complete stop at stop sign\"\n",
    "    }\n",
    "]\n",
    "\n",
    "def file_ticket(ticket):\n",
    "    priority = ticket['priority']\n",
    "    TICKET_BOXES[priority].append(ticket)\n",
    "    \n",
    "for ticket in unfiled_tickets:\n",
    "    file_ticket(ticket)\n",
    "    \n",
    "print(TICKET_BOXES)"
   ]
  },
  {
   "cell_type": "code",
   "execution_count": 13,
   "metadata": {
    "ExecuteTime": {
     "end_time": "2023-12-31T09:06:25.425878Z",
     "start_time": "2023-12-31T09:06:25.326793Z"
    }
   },
   "outputs": [
    {
     "ename": "KeyError",
     "evalue": "'highest'",
     "output_type": "error",
     "traceback": [
      "\u001B[0;31m---------------------------------------------------------------------------\u001B[0m",
      "\u001B[0;31mKeyError\u001B[0m                                  Traceback (most recent call last)",
      "\u001B[0;32m<ipython-input-13-0d6e7dcf92da>\u001B[0m in \u001B[0;36m<module>\u001B[0;34m\u001B[0m\n\u001B[1;32m      7\u001B[0m }\n\u001B[1;32m      8\u001B[0m \u001B[0;34m\u001B[0m\u001B[0m\n\u001B[0;32m----> 9\u001B[0;31m \u001B[0mfile_ticket\u001B[0m\u001B[0;34m(\u001B[0m\u001B[0mnew_ticket\u001B[0m\u001B[0;34m)\u001B[0m\u001B[0;34m\u001B[0m\u001B[0;34m\u001B[0m\u001B[0m\n\u001B[0m",
      "\u001B[0;32m<ipython-input-12-44880f72c04b>\u001B[0m in \u001B[0;36mfile_ticket\u001B[0;34m(ticket)\u001B[0m\n\u001B[1;32m     27\u001B[0m \u001B[0;32mdef\u001B[0m \u001B[0mfile_ticket\u001B[0m\u001B[0;34m(\u001B[0m\u001B[0mticket\u001B[0m\u001B[0;34m)\u001B[0m\u001B[0;34m:\u001B[0m\u001B[0;34m\u001B[0m\u001B[0;34m\u001B[0m\u001B[0m\n\u001B[1;32m     28\u001B[0m     \u001B[0mpriority\u001B[0m \u001B[0;34m=\u001B[0m \u001B[0mticket\u001B[0m\u001B[0;34m[\u001B[0m\u001B[0;34m'priority'\u001B[0m\u001B[0;34m]\u001B[0m\u001B[0;34m\u001B[0m\u001B[0;34m\u001B[0m\u001B[0m\n\u001B[0;32m---> 29\u001B[0;31m     \u001B[0mTICKET_BOXES\u001B[0m\u001B[0;34m[\u001B[0m\u001B[0mpriority\u001B[0m\u001B[0;34m]\u001B[0m\u001B[0;34m.\u001B[0m\u001B[0mappend\u001B[0m\u001B[0;34m(\u001B[0m\u001B[0mticket\u001B[0m\u001B[0;34m)\u001B[0m\u001B[0;34m\u001B[0m\u001B[0;34m\u001B[0m\u001B[0m\n\u001B[0m\u001B[1;32m     30\u001B[0m \u001B[0;34m\u001B[0m\u001B[0m\n\u001B[1;32m     31\u001B[0m \u001B[0;32mfor\u001B[0m \u001B[0mticket\u001B[0m \u001B[0;32min\u001B[0m \u001B[0munfiled_tickets\u001B[0m\u001B[0;34m:\u001B[0m\u001B[0;34m\u001B[0m\u001B[0;34m\u001B[0m\u001B[0m\n",
      "\u001B[0;31mKeyError\u001B[0m: 'highest'"
     ]
    }
   ],
   "source": [
    "# so far so good! But what if we try to file a ticket\n",
    "# with a priority \"highest\" (as we saw in Jira)?\n",
    "\n",
    "new_ticket = {\n",
    "    \"priority\" : \"highest\",\n",
    "    \"description\": \"vehicle crashed!\"\n",
    "}\n",
    "\n",
    "file_ticket(new_ticket)"
   ]
  },
  {
   "cell_type": "code",
   "execution_count": 14,
   "metadata": {
    "ExecuteTime": {
     "end_time": "2023-12-31T09:06:38.240655Z",
     "start_time": "2023-12-31T09:06:38.228351Z"
    }
   },
   "outputs": [
    {
     "name": "stdout",
     "output_type": "stream",
     "text": [
      "{'low': [{'priority': 'low', 'description': 'windshield chipped'}, {'priority': 'low', 'description': 'failed to use turn signal'}], 'medium': [{'priority': 'medium', 'description': 'did not come to complete stop at stop sign'}], 'high': [{'priority': 'high', 'description': 'slammed on brakes'}], 'highest': [{'priority': 'highest', 'description': 'vehicle crashed!'}]}\n"
     ]
    }
   ],
   "source": [
    "# as expected, we get a key error... one way to fix this\n",
    "# is as follows\n",
    "\n",
    "def file_ticket_fixed(ticket):\n",
    "    priority = ticket['priority']\n",
    "    \n",
    "    # new code\n",
    "    if priority not in TICKET_BOXES:\n",
    "        TICKET_BOXES[priority] = []\n",
    "        \n",
    "    TICKET_BOXES[priority].append(ticket)\n",
    "\n",
    "file_ticket_fixed(new_ticket)\n",
    "print(TICKET_BOXES)"
   ]
  },
  {
   "cell_type": "code",
   "execution_count": 15,
   "metadata": {
    "ExecuteTime": {
     "end_time": "2023-12-31T09:07:17.760783Z",
     "start_time": "2023-12-31T09:07:17.744783Z"
    }
   },
   "outputs": [
    {
     "name": "stdout",
     "output_type": "stream",
     "text": [
      "defaultdict(<class 'list'>, {'high': [{'priority': 'high', 'description': 'slammed on brakes'}], 'low': [{'priority': 'low', 'description': 'windshield chipped'}, {'priority': 'low', 'description': 'failed to use turn signal'}], 'medium': [{'priority': 'medium', 'description': 'did not come to complete stop at stop sign'}], 'highest': [{'priority': 'highest', 'description': 'vehicle crashed!'}]})\n"
     ]
    }
   ],
   "source": [
    "# OR we can use a \"defaultdict\" \n",
    "from collections import defaultdict\n",
    "\n",
    "TICKET_BOXES = defaultdict(list) # notice the argument of list...\n",
    "\n",
    "def file_ticket(ticket):\n",
    "    priority = ticket['priority']\n",
    "    TICKET_BOXES[priority].append(ticket)\n",
    "\n",
    "for ticket in unfiled_tickets:\n",
    "    file_ticket(ticket)\n",
    "    \n",
    "file_ticket(new_ticket)\n",
    "\n",
    "print(TICKET_BOXES)"
   ]
  },
  {
   "cell_type": "markdown",
   "metadata": {},
   "source": [
    "When you try to access a key that doesn't exist, defaultdict adds that key to the dictionary and associates a **default** value with it (in this case a list).\n",
    "\n",
    "If you want to learn more you can read the [documentation on defaultdict](https://docs.python.org/3.3/library/collections.html#collections.defaultdict)"
   ]
  },
  {
   "cell_type": "markdown",
   "metadata": {},
   "source": [
    "## 5. Other data structures from `collections`"
   ]
  },
  {
   "cell_type": "code",
   "execution_count": 16,
   "metadata": {
    "ExecuteTime": {
     "end_time": "2023-12-31T09:07:57.944712Z",
     "start_time": "2023-12-31T09:07:57.925581Z"
    }
   },
   "outputs": [],
   "source": [
    "from collections import deque, OrderedDict"
   ]
  },
  {
   "cell_type": "code",
   "execution_count": 17,
   "metadata": {
    "ExecuteTime": {
     "end_time": "2023-12-31T09:07:58.957666Z",
     "start_time": "2023-12-31T09:07:58.947801Z"
    }
   },
   "outputs": [
    {
     "name": "stdout",
     "output_type": "stream",
     "text": [
      "deque([4, 5, 6])\n"
     ]
    }
   ],
   "source": [
    "d = deque([4,5,6])\n",
    "print(d)"
   ]
  },
  {
   "cell_type": "code",
   "execution_count": 18,
   "metadata": {
    "ExecuteTime": {
     "end_time": "2023-12-31T09:08:01.403858Z",
     "start_time": "2023-12-31T09:08:01.387642Z"
    }
   },
   "outputs": [
    {
     "name": "stdout",
     "output_type": "stream",
     "text": [
      "deque([4, 5, 6, 7])\n"
     ]
    }
   ],
   "source": [
    "d.append(7)\n",
    "print(d)"
   ]
  },
  {
   "cell_type": "code",
   "execution_count": 19,
   "metadata": {
    "ExecuteTime": {
     "end_time": "2023-12-31T09:08:03.825474Z",
     "start_time": "2023-12-31T09:08:03.816600Z"
    }
   },
   "outputs": [
    {
     "name": "stdout",
     "output_type": "stream",
     "text": [
      "deque([3, 4, 5, 6, 7])\n"
     ]
    }
   ],
   "source": [
    "d.appendleft(3)\n",
    "print(d)"
   ]
  },
  {
   "cell_type": "code",
   "execution_count": 20,
   "metadata": {
    "ExecuteTime": {
     "end_time": "2023-12-31T09:08:06.643567Z",
     "start_time": "2023-12-31T09:08:06.629945Z"
    }
   },
   "outputs": [
    {
     "name": "stdout",
     "output_type": "stream",
     "text": [
      "last element was 7\n",
      "now d is deque([3, 4, 5, 6])\n"
     ]
    }
   ],
   "source": [
    "last = d.pop()\n",
    "print(\"last element was\", last)\n",
    "print(\"now d is\", d)"
   ]
  },
  {
   "cell_type": "code",
   "execution_count": 21,
   "metadata": {
    "ExecuteTime": {
     "end_time": "2023-12-31T09:08:08.746966Z",
     "start_time": "2023-12-31T09:08:08.738277Z"
    }
   },
   "outputs": [
    {
     "name": "stdout",
     "output_type": "stream",
     "text": [
      "first element was 3\n",
      "now d is deque([4, 5, 6])\n"
     ]
    }
   ],
   "source": [
    "first = d.popleft()\n",
    "print(\"first element was\", first)\n",
    "print(\"now d is\", d)"
   ]
  },
  {
   "cell_type": "code",
   "execution_count": 22,
   "metadata": {
    "ExecuteTime": {
     "end_time": "2023-12-31T09:08:13.310482Z",
     "start_time": "2023-12-31T09:08:13.301424Z"
    }
   },
   "outputs": [],
   "source": [
    "# # # # #"
   ]
  },
  {
   "cell_type": "code",
   "execution_count": 23,
   "metadata": {
    "ExecuteTime": {
     "end_time": "2023-12-31T09:08:14.460456Z",
     "start_time": "2023-12-31T09:08:14.444106Z"
    }
   },
   "outputs": [],
   "source": [
    "od = OrderedDict()"
   ]
  },
  {
   "cell_type": "code",
   "execution_count": 24,
   "metadata": {
    "ExecuteTime": {
     "end_time": "2023-12-31T09:08:17.281186Z",
     "start_time": "2023-12-31T09:08:17.270269Z"
    }
   },
   "outputs": [],
   "source": [
    "od['a'] = 1\n",
    "od['b'] = 2\n",
    "od['c'] = 3"
   ]
  },
  {
   "cell_type": "code",
   "execution_count": 25,
   "metadata": {
    "ExecuteTime": {
     "end_time": "2023-12-31T09:08:22.328749Z",
     "start_time": "2023-12-31T09:08:22.319055Z"
    }
   },
   "outputs": [
    {
     "name": "stdout",
     "output_type": "stream",
     "text": [
      "OrderedDict([('a', 1), ('b', 2), ('c', 3)])\n"
     ]
    }
   ],
   "source": [
    "# as the name implies, an OrderedDict is a dictionary that\n",
    "# keeps track of the order in which elements were added.\n",
    "\n",
    "print(od)"
   ]
  },
  {
   "cell_type": "code",
   "execution_count": null,
   "metadata": {},
   "outputs": [],
   "source": []
  }
 ],
 "metadata": {
  "kernelspec": {
   "display_name": "Python 3",
   "language": "python",
   "name": "python3"
  },
  "language_info": {
   "codemirror_mode": {
    "name": "ipython",
    "version": 3
   },
   "file_extension": ".py",
   "mimetype": "text/x-python",
   "name": "python",
   "nbconvert_exporter": "python",
   "pygments_lexer": "ipython3",
   "version": "3.6.3"
  }
 },
 "nbformat": 4,
 "nbformat_minor": 2
}
